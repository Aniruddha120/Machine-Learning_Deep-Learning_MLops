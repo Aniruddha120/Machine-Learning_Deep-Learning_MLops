{
 "cells": [
  {
   "cell_type": "code",
   "execution_count": 10,
   "id": "f7321ee9-6dd7-4ae4-affc-8822db0cf73c",
   "metadata": {},
   "outputs": [
    {
     "name": "stdout",
     "output_type": "stream",
     "text": [
      "a: 6 b: total: 11\n",
      "11\n"
     ]
    }
   ],
   "source": [
    "def sum(a,b):\n",
    "    total = a+b\n",
    "    print('a:',a,'b:','total:',total)\n",
    "    return total\n",
    "\n",
    "exp = sum(b = 5, a = 6)\n",
    "print(exp)\n",
    "\n"
   ]
  },
  {
   "cell_type": "code",
   "execution_count": null,
   "id": "e693c6a5-e5d2-4ed0-8d0a-47cd0040db53",
   "metadata": {},
   "outputs": [],
   "source": []
  }
 ],
 "metadata": {
  "kernelspec": {
   "display_name": "base",
   "language": "python",
   "name": "python3"
  },
  "language_info": {
   "codemirror_mode": {
    "name": "ipython",
    "version": 3
   },
   "file_extension": ".py",
   "mimetype": "text/x-python",
   "name": "python",
   "nbconvert_exporter": "python",
   "pygments_lexer": "ipython3",
   "version": "3.9.16"
  },
  "vscode": {
   "interpreter": {
    "hash": "89d377ba5740edcf042495edebefd724aa1361194727f21774698e377d34a8b6"
   }
  }
 },
 "nbformat": 4,
 "nbformat_minor": 5
}
