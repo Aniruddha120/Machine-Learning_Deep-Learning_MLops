{
 "cells": [
  {
   "cell_type": "code",
   "execution_count": 5,
   "id": "36cdef2e-2ffa-450c-8e75-82e16c9a415d",
   "metadata": {},
   "outputs": [
    {
     "name": "stdout",
     "output_type": "stream",
     "text": [
      "Total expence of Tom 600 and Total expence of Joe 1500\n"
     ]
    }
   ],
   "source": [
    "tom_items = [100,200,300]\n",
    "joe_items = [400,500,600]\n",
    "total = 0\n",
    "sum = 0\n",
    "for item in tom_items:\n",
    "    total = total+item\n",
    "for exp in joe_items:\n",
    "    sum = sum+exp\n",
    "print('Total expence of Tom', total ,'and Total expence of Joe',sum)"
   ]
  },
  {
   "cell_type": "code",
   "execution_count": 13,
   "id": "f069436a-135a-42f8-a95e-7b6cdc295e09",
   "metadata": {},
   "outputs": [],
   "source": [
    "import total"
   ]
  },
  {
   "cell_type": "code",
   "execution_count": 14,
   "id": "681464de",
   "metadata": {},
   "outputs": [
    {
     "name": "stdout",
     "output_type": "stream",
     "text": [
      "a: 8 b: total: 17\n"
     ]
    },
    {
     "data": {
      "text/plain": [
       "17"
      ]
     },
     "execution_count": 14,
     "metadata": {},
     "output_type": "execute_result"
    }
   ],
   "source": [
    "total.su(8,9)"
   ]
  },
  {
   "cell_type": "code",
   "execution_count": 15,
   "id": "2a1c5963",
   "metadata": {},
   "outputs": [
    {
     "name": "stdout",
     "output_type": "stream",
     "text": [
      "before import\n",
      "before function_a\n",
      "before function_b\n",
      "before __name__ guard\n",
      "Function A\n",
      "Function B 10.0\n",
      "after __name__ guard\n"
     ]
    }
   ],
   "source": []
  },
  {
   "cell_type": "code",
   "execution_count": 19,
   "id": "68d4a12c",
   "metadata": {},
   "outputs": [
    {
     "name": "stdout",
     "output_type": "stream",
     "text": [
      "before import\n",
      "before function_a\n",
      "before function_b\n",
      "before __name__ guard\n",
      "Function A\n",
      "Function B 10.0\n",
      "after __name__ guard\n"
     ]
    }
   ],
   "source": [
    "print(\"before import\")\n",
    "import math\n",
    "\n",
    "print(\"before function_a\")\n",
    "def function_a():\n",
    "    print(\"Function A\")\n",
    "\n",
    "print(\"before function_b\")\n",
    "def function_b():\n",
    "    print(\"Function B {}\".format(math.sqrt(100)))\n",
    "\n",
    "print(\"before __name__ guard\")\n",
    "#if __name__ == '__main__':\n",
    "function_a()\n",
    "function_b()\n",
    "print(\"after __name__ guard\")"
   ]
  },
  {
   "cell_type": "code",
   "execution_count": 21,
   "id": "93c21783",
   "metadata": {},
   "outputs": [],
   "source": [
    "import seaborn\n"
   ]
  },
  {
   "cell_type": "code",
   "execution_count": null,
   "id": "3017d2db",
   "metadata": {},
   "outputs": [],
   "source": [
    "import numpy as np"
   ]
  }
 ],
 "metadata": {
  "kernelspec": {
   "display_name": "base",
   "language": "python",
   "name": "python3"
  },
  "language_info": {
   "codemirror_mode": {
    "name": "ipython",
    "version": 3
   },
   "file_extension": ".py",
   "mimetype": "text/x-python",
   "name": "python",
   "nbconvert_exporter": "python",
   "pygments_lexer": "ipython3",
   "version": "3.9.16"
  },
  "vscode": {
   "interpreter": {
    "hash": "89d377ba5740edcf042495edebefd724aa1361194727f21774698e377d34a8b6"
   }
  }
 },
 "nbformat": 4,
 "nbformat_minor": 5
}
