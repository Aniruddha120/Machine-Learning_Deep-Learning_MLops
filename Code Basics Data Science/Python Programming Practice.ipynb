{
 "cells": [
  {
   "cell_type": "code",
   "execution_count": 2,
   "id": "0de691c8-7e26-4902-ae3e-722599b194c7",
   "metadata": {},
   "outputs": [
    {
     "data": {
      "text/plain": [
       "800"
      ]
     },
     "execution_count": 2,
     "metadata": {},
     "output_type": "execute_result"
    }
   ],
   "source": [
    "rent = 500\n",
    "groceries = 200\n",
    "bills = 100\n",
    "total = rent+groceries+bills\n",
    "total"
   ]
  },
  {
   "cell_type": "code",
   "execution_count": 3,
   "id": "f609321a-174a-482f-b9d5-3843f0f965fd",
   "metadata": {},
   "outputs": [
    {
     "ename": "SyntaxError",
     "evalue": "cannot assign to True (2600424155.py, line 1)",
     "output_type": "error",
     "traceback": [
      "\u001b[1;36m  Input \u001b[1;32mIn [3]\u001b[1;36m\u001b[0m\n\u001b[1;33m    True = 40\u001b[0m\n\u001b[1;37m    ^\u001b[0m\n\u001b[1;31mSyntaxError\u001b[0m\u001b[1;31m:\u001b[0m cannot assign to True\n"
     ]
    }
   ],
   "source": [
    "True = 40"
   ]
  },
  {
   "cell_type": "code",
   "execution_count": 4,
   "id": "d4541e90-4ca1-4f52-9959-b7bf3f416140",
   "metadata": {},
   "outputs": [
    {
     "name": "stdout",
     "output_type": "stream",
     "text": [
      "Mosh Hamedani\n"
     ]
    }
   ],
   "source": [
    "print(\"Mosh Hamedani\")"
   ]
  },
  {
   "cell_type": "code",
   "execution_count": 6,
   "id": "4df96324-af08-45f6-a196-ce25296ddea5",
   "metadata": {},
   "outputs": [
    {
     "name": "stdout",
     "output_type": "stream",
     "text": [
      "0-----\n",
      "  ||||\n"
     ]
    }
   ],
   "source": [
    "print('0-----')\n",
    "print('  ||||')"
   ]
  },
  {
   "cell_type": "code",
   "execution_count": 7,
   "id": "a64efacb-bdc2-4559-aab9-f000ca7cb9b7",
   "metadata": {},
   "outputs": [
    {
     "data": {
      "text/plain": [
       "243"
      ]
     },
     "execution_count": 7,
     "metadata": {},
     "output_type": "execute_result"
    }
   ],
   "source": [
    "3**5"
   ]
  },
  {
   "cell_type": "code",
   "execution_count": 8,
   "id": "d1057cdb-80c7-4bfe-a70b-c4310a98f92f",
   "metadata": {},
   "outputs": [
    {
     "data": {
      "text/plain": [
       "16"
      ]
     },
     "execution_count": 8,
     "metadata": {},
     "output_type": "execute_result"
    }
   ],
   "source": [
    "2**4"
   ]
  },
  {
   "cell_type": "code",
   "execution_count": 11,
   "id": "4aeef4cf-a9a1-4208-a13a-e24279fafa85",
   "metadata": {},
   "outputs": [],
   "source": [
    "time = 56.585*89.58"
   ]
  },
  {
   "cell_type": "code",
   "execution_count": 12,
   "id": "074bff68-e166-4b72-888f-ed0f5f4b0e9b",
   "metadata": {},
   "outputs": [
    {
     "data": {
      "text/plain": [
       "5068.88"
      ]
     },
     "execution_count": 12,
     "metadata": {},
     "output_type": "execute_result"
    }
   ],
   "source": [
    "round(time,2)"
   ]
  },
  {
   "cell_type": "code",
   "execution_count": 14,
   "id": "7e4c4a1a-4389-42a1-b813-7ac69ae84566",
   "metadata": {},
   "outputs": [
    {
     "data": {
      "text/plain": [
       "0.09999999999999964"
      ]
     },
     "execution_count": 14,
     "metadata": {},
     "output_type": "execute_result"
    }
   ],
   "source": [
    "9-8.9"
   ]
  },
  {
   "cell_type": "code",
   "execution_count": null,
   "id": "8d63311b-deb7-4a25-b62b-147f01a79680",
   "metadata": {},
   "outputs": [],
   "source": []
  }
 ],
 "metadata": {
  "kernelspec": {
   "display_name": "Python 3 (ipykernel)",
   "language": "python",
   "name": "python3"
  },
  "language_info": {
   "codemirror_mode": {
    "name": "ipython",
    "version": 3
   },
   "file_extension": ".py",
   "mimetype": "text/x-python",
   "name": "python",
   "nbconvert_exporter": "python",
   "pygments_lexer": "ipython3",
   "version": "3.9.13"
  }
 },
 "nbformat": 4,
 "nbformat_minor": 5
}
