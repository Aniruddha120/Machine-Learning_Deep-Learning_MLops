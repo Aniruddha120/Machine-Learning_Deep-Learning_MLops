{
 "cells": [
  {
   "cell_type": "code",
   "execution_count": 1,
   "id": "f36dc685-edab-4b2a-9ccf-059d855e9246",
   "metadata": {},
   "outputs": [],
   "source": [
    "tom_items = [100,200,300]\n",
    "joe_items = [400,500,600]"
   ]
  },
  {
   "cell_type": "code",
   "execution_count": 5,
   "id": "cca76177-80f8-463d-8ea2-baf37524dad0",
   "metadata": {},
   "outputs": [
    {
     "name": "stdout",
     "output_type": "stream",
     "text": [
      "Tom and Joe's expenses are 600 and 1500\n"
     ]
    }
   ],
   "source": [
    "def calculate_exp(exp):\n",
    "    total = 0\n",
    "    for items in exp:\n",
    "        total = total+items\n",
    "    return total\n",
    "tom_exp = calculate_exp(tom_items)\n",
    "joe_exp = calculate_exp(joe_items)\n",
    "print(\"Tom and Joe's expenses are\", tom_exp, \"and\", joe_exp)"
   ]
  },
  {
   "cell_type": "code",
   "execution_count": null,
   "id": "b124aaed-f874-48f6-b813-ba0d2a847b02",
   "metadata": {},
   "outputs": [],
   "source": []
  }
 ],
 "metadata": {
  "kernelspec": {
   "display_name": "Python 3 (ipykernel)",
   "language": "python",
   "name": "python3"
  },
  "language_info": {
   "codemirror_mode": {
    "name": "ipython",
    "version": 3
   },
   "file_extension": ".py",
   "mimetype": "text/x-python",
   "name": "python",
   "nbconvert_exporter": "python",
   "pygments_lexer": "ipython3",
   "version": "3.9.13"
  }
 },
 "nbformat": 4,
 "nbformat_minor": 5
}
